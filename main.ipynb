{
 "cells": [
  {
   "cell_type": "code",
   "execution_count": 1,
   "metadata": {},
   "outputs": [],
   "source": [
    "import numpy as np\n",
    "import scipy.io.wavfile as wav\n",
    "import matplotlib.pyplot as plt\n",
    "from scipy import signal"
   ]
  },
  {
   "cell_type": "code",
   "execution_count": 20,
   "metadata": {},
   "outputs": [],
   "source": [
    "def read_wav_files(filenames):\n",
    "    data_list = []\n",
    "    for filename in filenames:\n",
    "        rate, data = wav.read(filename)\n",
    "        if len(data.shape) > 1:  # if stereo, take only one channel\n",
    "            data = data[:, 0]\n",
    "        data_list.append(data)\n",
    "    return np.vstack(data_list)\n",
    "\n",
    "def center(X):\n",
    "    X = np.array(X)\n",
    "    mean = X.mean(axis=1, keepdims=True)\n",
    "    return X - mean\n",
    "\n",
    "def whitening(X):\n",
    "    cov = np.cov(X)\n",
    "    d, E = np.linalg.eigh(cov)\n",
    "    D = np.diag(d)\n",
    "    D_inv = np.sqrt(np.linalg.inv(D))\n",
    "    X_whiten = np.dot(E, np.dot(D_inv, np.dot(E.T, X)))\n",
    "    return X_whiten\n",
    "\n",
    "def fastICA(X, num_iter=5000, threshold=1e-8):\n",
    "    n, m = X.shape\n",
    "    X = center(X)\n",
    "    X = whitening(X)\n",
    "\n",
    "    W = np.random.rand(n, n)\n",
    "    for i in range(num_iter):\n",
    "        W_old = W\n",
    "        g = np.tanh(np.dot(W, X))\n",
    "        g_prime = 1 - g ** 2\n",
    "        W = np.dot(g, X.T) / m - np.dot(np.diag(g_prime.mean(axis=1)), W)\n",
    "        W = np.dot(np.linalg.inv(np.sqrt(np.linalg.inv(np.dot(W, W.T)))), W)\n",
    "        \n",
    "        if np.max(np.abs(W - W_old)) < threshold:\n",
    "            break\n",
    "\n",
    "    S = np.dot(W, X)\n",
    "    return S"
   ]
  },
  {
   "cell_type": "code",
   "execution_count": 21,
   "metadata": {},
   "outputs": [],
   "source": [
    "def apply_ICA_and_save(X, filenames):\n",
    "    W = ICA(X)\n",
    "    S = np.dot(W, X)\n",
    "    for i, filename in enumerate(filenames):\n",
    "        wav.write(\"separated_\" + filename, 16000, S[i])\n",
    "    return S\n"
   ]
  },
  {
   "cell_type": "code",
   "execution_count": 22,
   "metadata": {},
   "outputs": [
    {
     "name": "stderr",
     "output_type": "stream",
     "text": [
      "C:\\Users\\PC\\AppData\\Local\\Temp\\ipykernel_11696\\1271106157.py:34: RuntimeWarning: invalid value encountered in sqrt\n",
      "  W = np.dot(np.linalg.inv(np.sqrt(np.linalg.inv(np.dot(W, W.T)))), W)\n"
     ]
    }
   ],
   "source": [
    "filenames = [\"./report2_wav/x1.wav\", \"./report2_wav/x2.wav\", \"./report2_wav/x3.wav\"]\n",
    "X = read_wav_files(filenames)\n",
    "S_ = fastICA(X)"
   ]
  },
  {
   "cell_type": "code",
   "execution_count": null,
   "metadata": {},
   "outputs": [],
   "source": [
    "def calculate_correlation_matrix(S, S_):\n",
    "    return np.corrcoef(S, S_)"
   ]
  },
  {
   "cell_type": "code",
   "execution_count": null,
   "metadata": {},
   "outputs": [],
   "source": [
    "original_filenames = [\"s1.wav\", \"s2.wav\", \"s3.wav\"]\n",
    "S = read_wav_files(original_filenames)\n",
    "correlation_matrix = calculate_correlation_matrix(S, S_)\n",
    "print(correlation_matrix)"
   ]
  },
  {
   "cell_type": "code",
   "execution_count": null,
   "metadata": {},
   "outputs": [],
   "source": [
    "def plot_signals(S, S_):\n",
    "    plt.figure(figsize=(10, 2*len(S)))\n",
    "    for i, (s, s_) in enumerate(zip(S, S_)):\n",
    "        plt.subplot(len(S), 1, i+1)\n",
    "        plt.plot(s, 'b')\n",
    "        plt.plot(s_, 'r')\n",
    "    plt.show()"
   ]
  },
  {
   "cell_type": "code",
   "execution_count": null,
   "metadata": {},
   "outputs": [],
   "source": [
    "plot_signals(S, S_)"
   ]
  }
 ],
 "metadata": {
  "kernelspec": {
   "display_name": "myenv",
   "language": "python",
   "name": "python3"
  },
  "language_info": {
   "codemirror_mode": {
    "name": "ipython",
    "version": 3
   },
   "file_extension": ".py",
   "mimetype": "text/x-python",
   "name": "python",
   "nbconvert_exporter": "python",
   "pygments_lexer": "ipython3",
   "version": "3.9.13"
  },
  "orig_nbformat": 4
 },
 "nbformat": 4,
 "nbformat_minor": 2
}
